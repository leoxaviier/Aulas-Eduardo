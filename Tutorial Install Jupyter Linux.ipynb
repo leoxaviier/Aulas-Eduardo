{
 "cells": [
  {
   "cell_type": "markdown",
   "metadata": {},
   "source": [
    "<center> <h1><b>Instalando Anaconda/Jupyter Notebook no Linux</b></h1> </center>"
   ]
  },
  {
   "cell_type": "markdown",
   "metadata": {},
   "source": [
    "<br>Antes de iniciarmos a instalação, o que seria o Jupyter Notebook ? Jupyter Notebook é uma aplicação web que pode ajudar a entender e visualizar dados e resultados de análises, juntamente com o código! Facilita a experimentação, colaboração e publicação online. Anteriormente conhecido como IPython notebooks, hoje permite o uso de outras linguagens, sendo Python o default.</br>"
   ]
  },
  {
   "cell_type": "markdown",
   "metadata": {},
   "source": [
    "No tutorial, vou utilizar o Linux Mint mas a instalação serve para qualquer distro. Bom vamos la!\n",
    "\n"
   ]
  },
  {
   "cell_type": "markdown",
   "metadata": {},
   "source": [
    "Inicialmente vamos instalar o pip e o python-dev. Mas o que seriam eles? Bem simples, o pip seria o gerenciador de pacotes de Python, já o python-dev , seria uma parte capaz de compilar extensões da linguagem C no Jupyter.\n",
    "\n"
   ]
  },
  {
   "cell_type": "markdown",
   "metadata": {},
   "source": [
    "Vamos utilizar o seguinte comando: "
   ]
  },
  {
   "cell_type": "raw",
   "metadata": {},
   "source": [
    "$ sudo apt-get -y install python python-pip python-dev"
   ]
  },
  {
   "cell_type": "markdown",
   "metadata": {},
   "source": [
    "Para sabermos se o  python-dev foi instalado corretamente, basta utilizar o comando a seguir:"
   ]
  },
  {
   "cell_type": "raw",
   "metadata": {},
   "source": [
    "$ python -V"
   ]
  },
  {
   "cell_type": "markdown",
   "metadata": {},
   "source": [
    "Caso a saída seja a versão do python, ele está instalado corretamente!"
   ]
  },
  {
   "cell_type": "markdown",
   "metadata": {},
   "source": [
    "Agora para sabermos se o pip esta correto também, utilizaremos o código a seguir:\n"
   ]
  },
  {
   "cell_type": "raw",
   "metadata": {},
   "source": [
    "$ pip -V"
   ]
  },
  {
   "cell_type": "markdown",
   "metadata": {},
   "source": [
    "Como no anterior, se a saída for a versão esta tudo correto!"
   ]
  },
  {
   "cell_type": "markdown",
   "metadata": {},
   "source": [
    "Agora vamos para a parte principal, instalação do <b>Ipython e notebook</b>. Nesta etapa, a instalação do Ipython possui a função interpretar de forma interativa, várias linguagens de programação com foco em Python. O notebook, seria o próprio Jupyter Notebook."
   ]
  },
  {
   "cell_type": "markdown",
   "metadata": {},
   "source": [
    "Vamos utilizar o seguinte comando para instação de pacote:"
   ]
  },
  {
   "cell_type": "raw",
   "metadata": {},
   "source": [
    "$ sudo apt-get -y install ipython ipython-notebook"
   ]
  },
  {
   "cell_type": "markdown",
   "metadata": {},
   "source": [
    "E para encerrarmos a parte de instalação, vamos instalar o pacote do jupyter com o pip usando o seguinte comando:"
   ]
  },
  {
   "cell_type": "raw",
   "metadata": {},
   "source": [
    "$ sudo -H pip install jupyter"
   ]
  },
  {
   "cell_type": "markdown",
   "metadata": {},
   "source": [
    "<center><h3>Testando o Jupyter Notebook</h3></center>"
   ]
  },
  {
   "cell_type": "markdown",
   "metadata": {},
   "source": [
    "Normalmente, alguns usuários gostam de alterar a pasta padrão de seus programas. Irei ensinar como se faz essa mudança, confira abaixo!"
   ]
  },
  {
   "cell_type": "markdown",
   "metadata": {},
   "source": [
    "Vamos utilizar a seguinte linha de comando: "
   ]
  },
  {
   "cell_type": "raw",
   "metadata": {},
   "source": [
    "$ sudo mkdir /home/seu_usuario/projetos/"
   ]
  },
  {
   "cell_type": "markdown",
   "metadata": {},
   "source": [
    "Mudamos de diretório para a pasta criada:"
   ]
  },
  {
   "cell_type": "raw",
   "metadata": {},
   "source": [
    "$ cd /home/seu_usuario/projetos/"
   ]
  },
  {
   "cell_type": "markdown",
   "metadata": {},
   "source": [
    "Vamos iniciar o jupyter notebook nesta pasta com o seguinte comando:"
   ]
  },
  {
   "cell_type": "raw",
   "metadata": {},
   "source": [
    "$ jupyter notebook"
   ]
  },
  {
   "cell_type": "markdown",
   "metadata": {},
   "source": [
    "Pronto, depois de todo esse tutorial, é bem provável que seu Jupyter Notebook esteja funcionando corretamente. Em um próximo tutorial vou ensinar como usá-lo. E por hoje é só pessoal, muito obrigado!"
   ]
  },
  {
   "cell_type": "code",
   "execution_count": null,
   "metadata": {},
   "outputs": [],
   "source": []
  }
 ],
 "metadata": {
  "kernelspec": {
   "display_name": "Python 3",
   "language": "python",
   "name": "python3"
  },
  "language_info": {
   "codemirror_mode": {
    "name": "ipython",
    "version": 3
   },
   "file_extension": ".py",
   "mimetype": "text/x-python",
   "name": "python",
   "nbconvert_exporter": "python",
   "pygments_lexer": "ipython3",
   "version": "3.7.3"
  }
 },
 "nbformat": 4,
 "nbformat_minor": 2
}
